{
 "cells": [
  {
   "cell_type": "markdown",
   "metadata": {},
   "source": [
    "The data for this analysis was downloaded from:\n",
    "https://www.kaggle.com/c/mens-march-mania-2022/data"
   ]
  },
  {
   "cell_type": "code",
   "execution_count": 165,
   "metadata": {},
   "outputs": [],
   "source": [
    "import numpy as np\n",
    "import pandas as pd\n",
    "import plotly.express as px\n",
    "\n",
    "proj_root_dir = r\"C:\\Users\\adiad\\Documents\\GitHub\\ncaa-tourney-predict\"\n",
    "proj_root_dir = proj_root_dir.replace(\"\\\\\", \"/\") + \"/\"\n",
    "\n",
    "tourn_df = pd.read_csv(proj_root_dir + \"data/mens-march-mania-2022/MDataFiles_Stage1/MNCAATourneyCompactResults.csv\")\n",
    "seed_df = pd.read_csv(proj_root_dir + \"data/mens-march-mania-2022/MDataFiles_Stage1/MNCAATourneySeeds.csv\")"
   ]
  },
  {
   "cell_type": "code",
   "execution_count": 166,
   "metadata": {},
   "outputs": [
    {
     "data": {
      "text/html": [
       "<div>\n",
       "<style scoped>\n",
       "    .dataframe tbody tr th:only-of-type {\n",
       "        vertical-align: middle;\n",
       "    }\n",
       "\n",
       "    .dataframe tbody tr th {\n",
       "        vertical-align: top;\n",
       "    }\n",
       "\n",
       "    .dataframe thead th {\n",
       "        text-align: right;\n",
       "    }\n",
       "</style>\n",
       "<table border=\"1\" class=\"dataframe\">\n",
       "  <thead>\n",
       "    <tr style=\"text-align: right;\">\n",
       "      <th></th>\n",
       "      <th>Season</th>\n",
       "      <th>DayNum</th>\n",
       "      <th>WTeamID</th>\n",
       "      <th>WScore</th>\n",
       "      <th>LTeamID</th>\n",
       "      <th>LScore</th>\n",
       "      <th>WLoc</th>\n",
       "      <th>NumOT</th>\n",
       "    </tr>\n",
       "  </thead>\n",
       "  <tbody>\n",
       "    <tr>\n",
       "      <th>1719</th>\n",
       "      <td>2012</td>\n",
       "      <td>136</td>\n",
       "      <td>1124</td>\n",
       "      <td>68</td>\n",
       "      <td>1355</td>\n",
       "      <td>60</td>\n",
       "      <td>N</td>\n",
       "      <td>0</td>\n",
       "    </tr>\n",
       "    <tr>\n",
       "      <th>1720</th>\n",
       "      <td>2012</td>\n",
       "      <td>136</td>\n",
       "      <td>1160</td>\n",
       "      <td>68</td>\n",
       "      <td>1424</td>\n",
       "      <td>64</td>\n",
       "      <td>N</td>\n",
       "      <td>0</td>\n",
       "    </tr>\n",
       "    <tr>\n",
       "      <th>1721</th>\n",
       "      <td>2012</td>\n",
       "      <td>136</td>\n",
       "      <td>1211</td>\n",
       "      <td>77</td>\n",
       "      <td>1452</td>\n",
       "      <td>54</td>\n",
       "      <td>N</td>\n",
       "      <td>0</td>\n",
       "    </tr>\n",
       "    <tr>\n",
       "      <th>1722</th>\n",
       "      <td>2012</td>\n",
       "      <td>136</td>\n",
       "      <td>1231</td>\n",
       "      <td>79</td>\n",
       "      <td>1308</td>\n",
       "      <td>66</td>\n",
       "      <td>N</td>\n",
       "      <td>0</td>\n",
       "    </tr>\n",
       "    <tr>\n",
       "      <th>1723</th>\n",
       "      <td>2012</td>\n",
       "      <td>136</td>\n",
       "      <td>1235</td>\n",
       "      <td>77</td>\n",
       "      <td>1163</td>\n",
       "      <td>64</td>\n",
       "      <td>N</td>\n",
       "      <td>0</td>\n",
       "    </tr>\n",
       "  </tbody>\n",
       "</table>\n",
       "</div>"
      ],
      "text/plain": [
       "      Season  DayNum  WTeamID  WScore  LTeamID  LScore WLoc  NumOT\n",
       "1719    2012     136     1124      68     1355      60    N      0\n",
       "1720    2012     136     1160      68     1424      64    N      0\n",
       "1721    2012     136     1211      77     1452      54    N      0\n",
       "1722    2012     136     1231      79     1308      66    N      0\n",
       "1723    2012     136     1235      77     1163      64    N      0"
      ]
     },
     "execution_count": 166,
     "metadata": {},
     "output_type": "execute_result"
    }
   ],
   "source": [
    "# drop play-in games\n",
    "tourn_df = tourn_df[tourn_df.DayNum >= 136]\n",
    "\n",
    "# limit data to last 10 years\n",
    "tourn_df = tourn_df[tourn_df.Season > 2011]\n",
    "\n",
    "tourn_df.head()"
   ]
  },
  {
   "cell_type": "code",
   "execution_count": 167,
   "metadata": {},
   "outputs": [
    {
     "data": {
      "text/html": [
       "<div>\n",
       "<style scoped>\n",
       "    .dataframe tbody tr th:only-of-type {\n",
       "        vertical-align: middle;\n",
       "    }\n",
       "\n",
       "    .dataframe tbody tr th {\n",
       "        vertical-align: top;\n",
       "    }\n",
       "\n",
       "    .dataframe thead th {\n",
       "        text-align: right;\n",
       "    }\n",
       "</style>\n",
       "<table border=\"1\" class=\"dataframe\">\n",
       "  <thead>\n",
       "    <tr style=\"text-align: right;\">\n",
       "      <th></th>\n",
       "      <th>Season</th>\n",
       "      <th>Seed</th>\n",
       "      <th>TeamID</th>\n",
       "      <th>SeedNum</th>\n",
       "    </tr>\n",
       "  </thead>\n",
       "  <tbody>\n",
       "    <tr>\n",
       "      <th>0</th>\n",
       "      <td>1985</td>\n",
       "      <td>W01</td>\n",
       "      <td>1207</td>\n",
       "      <td>1</td>\n",
       "    </tr>\n",
       "    <tr>\n",
       "      <th>1</th>\n",
       "      <td>1985</td>\n",
       "      <td>W02</td>\n",
       "      <td>1210</td>\n",
       "      <td>2</td>\n",
       "    </tr>\n",
       "    <tr>\n",
       "      <th>2</th>\n",
       "      <td>1985</td>\n",
       "      <td>W03</td>\n",
       "      <td>1228</td>\n",
       "      <td>3</td>\n",
       "    </tr>\n",
       "    <tr>\n",
       "      <th>3</th>\n",
       "      <td>1985</td>\n",
       "      <td>W04</td>\n",
       "      <td>1260</td>\n",
       "      <td>4</td>\n",
       "    </tr>\n",
       "    <tr>\n",
       "      <th>4</th>\n",
       "      <td>1985</td>\n",
       "      <td>W05</td>\n",
       "      <td>1374</td>\n",
       "      <td>5</td>\n",
       "    </tr>\n",
       "  </tbody>\n",
       "</table>\n",
       "</div>"
      ],
      "text/plain": [
       "   Season Seed  TeamID  SeedNum\n",
       "0    1985  W01    1207        1\n",
       "1    1985  W02    1210        2\n",
       "2    1985  W03    1228        3\n",
       "3    1985  W04    1260        4\n",
       "4    1985  W05    1374        5"
      ]
     },
     "execution_count": 167,
     "metadata": {},
     "output_type": "execute_result"
    }
   ],
   "source": [
    "# extract seeds as integers\n",
    "seed_df[\"SeedNum\"] = seed_df.Seed.str[1:3].astype(int)\n",
    "seed_df.head()"
   ]
  },
  {
   "cell_type": "code",
   "execution_count": 168,
   "metadata": {},
   "outputs": [
    {
     "data": {
      "text/html": [
       "<div>\n",
       "<style scoped>\n",
       "    .dataframe tbody tr th:only-of-type {\n",
       "        vertical-align: middle;\n",
       "    }\n",
       "\n",
       "    .dataframe tbody tr th {\n",
       "        vertical-align: top;\n",
       "    }\n",
       "\n",
       "    .dataframe thead th {\n",
       "        text-align: right;\n",
       "    }\n",
       "</style>\n",
       "<table border=\"1\" class=\"dataframe\">\n",
       "  <thead>\n",
       "    <tr style=\"text-align: right;\">\n",
       "      <th></th>\n",
       "      <th>Season</th>\n",
       "      <th>DayNum</th>\n",
       "      <th>WTeamID</th>\n",
       "      <th>WScore</th>\n",
       "      <th>LTeamID</th>\n",
       "      <th>LScore</th>\n",
       "      <th>WLoc</th>\n",
       "      <th>NumOT</th>\n",
       "      <th>Seed</th>\n",
       "      <th>WSeedNum</th>\n",
       "      <th>LSeedNum</th>\n",
       "      <th>SeedPair</th>\n",
       "      <th>TopSeedWon</th>\n",
       "    </tr>\n",
       "  </thead>\n",
       "  <tbody>\n",
       "    <tr>\n",
       "      <th>0</th>\n",
       "      <td>2012</td>\n",
       "      <td>136</td>\n",
       "      <td>1124</td>\n",
       "      <td>68</td>\n",
       "      <td>1355</td>\n",
       "      <td>60</td>\n",
       "      <td>N</td>\n",
       "      <td>0</td>\n",
       "      <td>Y03</td>\n",
       "      <td>3</td>\n",
       "      <td>14</td>\n",
       "      <td>(3, 14)</td>\n",
       "      <td>True</td>\n",
       "    </tr>\n",
       "    <tr>\n",
       "      <th>1</th>\n",
       "      <td>2012</td>\n",
       "      <td>136</td>\n",
       "      <td>1160</td>\n",
       "      <td>68</td>\n",
       "      <td>1424</td>\n",
       "      <td>64</td>\n",
       "      <td>N</td>\n",
       "      <td>0</td>\n",
       "      <td>Y11</td>\n",
       "      <td>11</td>\n",
       "      <td>6</td>\n",
       "      <td>(6, 11)</td>\n",
       "      <td>False</td>\n",
       "    </tr>\n",
       "    <tr>\n",
       "      <th>2</th>\n",
       "      <td>2012</td>\n",
       "      <td>136</td>\n",
       "      <td>1211</td>\n",
       "      <td>77</td>\n",
       "      <td>1452</td>\n",
       "      <td>54</td>\n",
       "      <td>N</td>\n",
       "      <td>0</td>\n",
       "      <td>W07</td>\n",
       "      <td>7</td>\n",
       "      <td>10</td>\n",
       "      <td>(7, 10)</td>\n",
       "      <td>True</td>\n",
       "    </tr>\n",
       "    <tr>\n",
       "      <th>3</th>\n",
       "      <td>2012</td>\n",
       "      <td>136</td>\n",
       "      <td>1231</td>\n",
       "      <td>79</td>\n",
       "      <td>1308</td>\n",
       "      <td>66</td>\n",
       "      <td>N</td>\n",
       "      <td>0</td>\n",
       "      <td>Y04</td>\n",
       "      <td>4</td>\n",
       "      <td>13</td>\n",
       "      <td>(4, 13)</td>\n",
       "      <td>True</td>\n",
       "    </tr>\n",
       "    <tr>\n",
       "      <th>4</th>\n",
       "      <td>2012</td>\n",
       "      <td>136</td>\n",
       "      <td>1235</td>\n",
       "      <td>77</td>\n",
       "      <td>1163</td>\n",
       "      <td>64</td>\n",
       "      <td>N</td>\n",
       "      <td>0</td>\n",
       "      <td>Y08</td>\n",
       "      <td>8</td>\n",
       "      <td>9</td>\n",
       "      <td>(8, 9)</td>\n",
       "      <td>True</td>\n",
       "    </tr>\n",
       "  </tbody>\n",
       "</table>\n",
       "</div>"
      ],
      "text/plain": [
       "   Season  DayNum  WTeamID  WScore  LTeamID  LScore WLoc  NumOT Seed  \\\n",
       "0    2012     136     1124      68     1355      60    N      0  Y03   \n",
       "1    2012     136     1160      68     1424      64    N      0  Y11   \n",
       "2    2012     136     1211      77     1452      54    N      0  W07   \n",
       "3    2012     136     1231      79     1308      66    N      0  Y04   \n",
       "4    2012     136     1235      77     1163      64    N      0  Y08   \n",
       "\n",
       "   WSeedNum  LSeedNum SeedPair  TopSeedWon  \n",
       "0         3        14  (3, 14)        True  \n",
       "1        11         6  (6, 11)       False  \n",
       "2         7        10  (7, 10)        True  \n",
       "3         4        13  (4, 13)        True  \n",
       "4         8         9   (8, 9)        True  "
      ]
     },
     "execution_count": 168,
     "metadata": {},
     "output_type": "execute_result"
    }
   ],
   "source": [
    "# join winning seed numbers\n",
    "tourn_df = tourn_df.merge(seed_df, how=\"left\", left_on=[\"Season\", \"WTeamID\"], right_on=[\"Season\", \"TeamID\"])\n",
    "tourn_df = tourn_df.drop([\"TeamID\"], axis=1)\n",
    "tourn_df.rename(columns = {\"SeedNum\": \"WSeedNum\"}, inplace = True)\n",
    "\n",
    "# join losing seed numbers\n",
    "tourn_df = tourn_df.merge(seed_df.drop([\"Seed\"], axis=1), how=\"left\", \\\n",
    "    left_on=[\"Season\", \"LTeamID\"], right_on=[\"Season\", \"TeamID\"])\n",
    "tourn_df = tourn_df.drop([\"TeamID\"], axis=1)\n",
    "tourn_df.rename(columns = {\"SeedNum\": \"LSeedNum\"}, inplace = True)\n",
    "\n",
    "# drop games where seeds played against same seed from another region\n",
    "tourn_df = tourn_df[tourn_df.WSeedNum != tourn_df.LSeedNum]\n",
    "\n",
    "# add seed pair column\n",
    "tourn_df[\"SeedPair\"] = tourn_df.apply(lambda row: \\\n",
    "    (min(row.WSeedNum, row.LSeedNum), max(row.WSeedNum, row.LSeedNum)), axis=1)\n",
    "\n",
    "# add top-seed-won boolean column\n",
    "tourn_df[\"TopSeedWon\"] = tourn_df.WSeedNum < tourn_df.LSeedNum\n",
    "\n",
    "tourn_df.head()"
   ]
  },
  {
   "cell_type": "code",
   "execution_count": 169,
   "metadata": {},
   "outputs": [
    {
     "data": {
      "text/html": [
       "<div>\n",
       "<style scoped>\n",
       "    .dataframe tbody tr th:only-of-type {\n",
       "        vertical-align: middle;\n",
       "    }\n",
       "\n",
       "    .dataframe tbody tr th {\n",
       "        vertical-align: top;\n",
       "    }\n",
       "\n",
       "    .dataframe thead th {\n",
       "        text-align: right;\n",
       "    }\n",
       "</style>\n",
       "<table border=\"1\" class=\"dataframe\">\n",
       "  <thead>\n",
       "    <tr style=\"text-align: right;\">\n",
       "      <th></th>\n",
       "      <th>sum</th>\n",
       "      <th>count</th>\n",
       "      <th>avg</th>\n",
       "    </tr>\n",
       "    <tr>\n",
       "      <th>SeedPair</th>\n",
       "      <th></th>\n",
       "      <th></th>\n",
       "      <th></th>\n",
       "    </tr>\n",
       "  </thead>\n",
       "  <tbody>\n",
       "    <tr>\n",
       "      <th>(1, 2)</th>\n",
       "      <td>7</td>\n",
       "      <td>14</td>\n",
       "      <td>0.500000</td>\n",
       "    </tr>\n",
       "    <tr>\n",
       "      <th>(1, 3)</th>\n",
       "      <td>8</td>\n",
       "      <td>10</td>\n",
       "      <td>0.800000</td>\n",
       "    </tr>\n",
       "    <tr>\n",
       "      <th>(1, 4)</th>\n",
       "      <td>15</td>\n",
       "      <td>19</td>\n",
       "      <td>0.789474</td>\n",
       "    </tr>\n",
       "    <tr>\n",
       "      <th>(1, 5)</th>\n",
       "      <td>9</td>\n",
       "      <td>10</td>\n",
       "      <td>0.900000</td>\n",
       "    </tr>\n",
       "    <tr>\n",
       "      <th>(1, 6)</th>\n",
       "      <td>2</td>\n",
       "      <td>2</td>\n",
       "      <td>1.000000</td>\n",
       "    </tr>\n",
       "    <tr>\n",
       "      <th>(1, 7)</th>\n",
       "      <td>2</td>\n",
       "      <td>3</td>\n",
       "      <td>0.666667</td>\n",
       "    </tr>\n",
       "    <tr>\n",
       "      <th>(1, 8)</th>\n",
       "      <td>16</td>\n",
       "      <td>20</td>\n",
       "      <td>0.800000</td>\n",
       "    </tr>\n",
       "    <tr>\n",
       "      <th>(1, 9)</th>\n",
       "      <td>14</td>\n",
       "      <td>16</td>\n",
       "      <td>0.875000</td>\n",
       "    </tr>\n",
       "    <tr>\n",
       "      <th>(1, 10)</th>\n",
       "      <td>1</td>\n",
       "      <td>2</td>\n",
       "      <td>0.500000</td>\n",
       "    </tr>\n",
       "    <tr>\n",
       "      <th>(1, 11)</th>\n",
       "      <td>3</td>\n",
       "      <td>4</td>\n",
       "      <td>0.750000</td>\n",
       "    </tr>\n",
       "    <tr>\n",
       "      <th>(1, 12)</th>\n",
       "      <td>2</td>\n",
       "      <td>2</td>\n",
       "      <td>1.000000</td>\n",
       "    </tr>\n",
       "    <tr>\n",
       "      <th>(1, 13)</th>\n",
       "      <td>1</td>\n",
       "      <td>1</td>\n",
       "      <td>1.000000</td>\n",
       "    </tr>\n",
       "    <tr>\n",
       "      <th>(1, 16)</th>\n",
       "      <td>35</td>\n",
       "      <td>36</td>\n",
       "      <td>0.972222</td>\n",
       "    </tr>\n",
       "    <tr>\n",
       "      <th>(2, 3)</th>\n",
       "      <td>6</td>\n",
       "      <td>11</td>\n",
       "      <td>0.545455</td>\n",
       "    </tr>\n",
       "    <tr>\n",
       "      <th>(2, 5)</th>\n",
       "      <td>0</td>\n",
       "      <td>1</td>\n",
       "      <td>0.000000</td>\n",
       "    </tr>\n",
       "    <tr>\n",
       "      <th>(2, 6)</th>\n",
       "      <td>4</td>\n",
       "      <td>4</td>\n",
       "      <td>1.000000</td>\n",
       "    </tr>\n",
       "    <tr>\n",
       "      <th>(2, 7)</th>\n",
       "      <td>10</td>\n",
       "      <td>19</td>\n",
       "      <td>0.526316</td>\n",
       "    </tr>\n",
       "    <tr>\n",
       "      <th>(2, 8)</th>\n",
       "      <td>0</td>\n",
       "      <td>2</td>\n",
       "      <td>0.000000</td>\n",
       "    </tr>\n",
       "    <tr>\n",
       "      <th>(2, 9)</th>\n",
       "      <td>0</td>\n",
       "      <td>1</td>\n",
       "      <td>0.000000</td>\n",
       "    </tr>\n",
       "    <tr>\n",
       "      <th>(2, 10)</th>\n",
       "      <td>11</td>\n",
       "      <td>12</td>\n",
       "      <td>0.916667</td>\n",
       "    </tr>\n",
       "    <tr>\n",
       "      <th>(2, 11)</th>\n",
       "      <td>5</td>\n",
       "      <td>7</td>\n",
       "      <td>0.714286</td>\n",
       "    </tr>\n",
       "    <tr>\n",
       "      <th>(2, 12)</th>\n",
       "      <td>1</td>\n",
       "      <td>1</td>\n",
       "      <td>1.000000</td>\n",
       "    </tr>\n",
       "    <tr>\n",
       "      <th>(2, 15)</th>\n",
       "      <td>31</td>\n",
       "      <td>36</td>\n",
       "      <td>0.861111</td>\n",
       "    </tr>\n",
       "    <tr>\n",
       "      <th>(3, 4)</th>\n",
       "      <td>0</td>\n",
       "      <td>2</td>\n",
       "      <td>0.000000</td>\n",
       "    </tr>\n",
       "    <tr>\n",
       "      <th>(3, 6)</th>\n",
       "      <td>12</td>\n",
       "      <td>15</td>\n",
       "      <td>0.800000</td>\n",
       "    </tr>\n",
       "    <tr>\n",
       "      <th>(3, 7)</th>\n",
       "      <td>3</td>\n",
       "      <td>7</td>\n",
       "      <td>0.428571</td>\n",
       "    </tr>\n",
       "    <tr>\n",
       "      <th>(3, 9)</th>\n",
       "      <td>1</td>\n",
       "      <td>1</td>\n",
       "      <td>1.000000</td>\n",
       "    </tr>\n",
       "    <tr>\n",
       "      <th>(3, 10)</th>\n",
       "      <td>1</td>\n",
       "      <td>1</td>\n",
       "      <td>1.000000</td>\n",
       "    </tr>\n",
       "    <tr>\n",
       "      <th>(3, 11)</th>\n",
       "      <td>9</td>\n",
       "      <td>16</td>\n",
       "      <td>0.562500</td>\n",
       "    </tr>\n",
       "    <tr>\n",
       "      <th>(3, 14)</th>\n",
       "      <td>30</td>\n",
       "      <td>36</td>\n",
       "      <td>0.833333</td>\n",
       "    </tr>\n",
       "    <tr>\n",
       "      <th>(3, 15)</th>\n",
       "      <td>2</td>\n",
       "      <td>2</td>\n",
       "      <td>1.000000</td>\n",
       "    </tr>\n",
       "    <tr>\n",
       "      <th>(4, 5)</th>\n",
       "      <td>11</td>\n",
       "      <td>16</td>\n",
       "      <td>0.687500</td>\n",
       "    </tr>\n",
       "    <tr>\n",
       "      <th>(4, 7)</th>\n",
       "      <td>1</td>\n",
       "      <td>4</td>\n",
       "      <td>0.250000</td>\n",
       "    </tr>\n",
       "    <tr>\n",
       "      <th>(4, 8)</th>\n",
       "      <td>2</td>\n",
       "      <td>3</td>\n",
       "      <td>0.666667</td>\n",
       "    </tr>\n",
       "    <tr>\n",
       "      <th>(4, 9)</th>\n",
       "      <td>0</td>\n",
       "      <td>1</td>\n",
       "      <td>0.000000</td>\n",
       "    </tr>\n",
       "    <tr>\n",
       "      <th>(4, 12)</th>\n",
       "      <td>10</td>\n",
       "      <td>12</td>\n",
       "      <td>0.833333</td>\n",
       "    </tr>\n",
       "    <tr>\n",
       "      <th>(4, 13)</th>\n",
       "      <td>28</td>\n",
       "      <td>36</td>\n",
       "      <td>0.777778</td>\n",
       "    </tr>\n",
       "    <tr>\n",
       "      <th>(5, 9)</th>\n",
       "      <td>0</td>\n",
       "      <td>1</td>\n",
       "      <td>0.000000</td>\n",
       "    </tr>\n",
       "    <tr>\n",
       "      <th>(5, 12)</th>\n",
       "      <td>21</td>\n",
       "      <td>36</td>\n",
       "      <td>0.583333</td>\n",
       "    </tr>\n",
       "    <tr>\n",
       "      <th>(5, 13)</th>\n",
       "      <td>5</td>\n",
       "      <td>5</td>\n",
       "      <td>1.000000</td>\n",
       "    </tr>\n",
       "    <tr>\n",
       "      <th>(6, 7)</th>\n",
       "      <td>2</td>\n",
       "      <td>2</td>\n",
       "      <td>1.000000</td>\n",
       "    </tr>\n",
       "    <tr>\n",
       "      <th>(6, 11)</th>\n",
       "      <td>18</td>\n",
       "      <td>36</td>\n",
       "      <td>0.500000</td>\n",
       "    </tr>\n",
       "    <tr>\n",
       "      <th>(6, 14)</th>\n",
       "      <td>3</td>\n",
       "      <td>3</td>\n",
       "      <td>1.000000</td>\n",
       "    </tr>\n",
       "    <tr>\n",
       "      <th>(7, 8)</th>\n",
       "      <td>1</td>\n",
       "      <td>1</td>\n",
       "      <td>1.000000</td>\n",
       "    </tr>\n",
       "    <tr>\n",
       "      <th>(7, 10)</th>\n",
       "      <td>21</td>\n",
       "      <td>35</td>\n",
       "      <td>0.600000</td>\n",
       "    </tr>\n",
       "    <tr>\n",
       "      <th>(7, 11)</th>\n",
       "      <td>0</td>\n",
       "      <td>1</td>\n",
       "      <td>0.000000</td>\n",
       "    </tr>\n",
       "    <tr>\n",
       "      <th>(7, 15)</th>\n",
       "      <td>1</td>\n",
       "      <td>3</td>\n",
       "      <td>0.333333</td>\n",
       "    </tr>\n",
       "    <tr>\n",
       "      <th>(8, 9)</th>\n",
       "      <td>20</td>\n",
       "      <td>36</td>\n",
       "      <td>0.555556</td>\n",
       "    </tr>\n",
       "    <tr>\n",
       "      <th>(8, 12)</th>\n",
       "      <td>0</td>\n",
       "      <td>1</td>\n",
       "      <td>0.000000</td>\n",
       "    </tr>\n",
       "    <tr>\n",
       "      <th>(9, 11)</th>\n",
       "      <td>0</td>\n",
       "      <td>1</td>\n",
       "      <td>0.000000</td>\n",
       "    </tr>\n",
       "    <tr>\n",
       "      <th>(9, 13)</th>\n",
       "      <td>1</td>\n",
       "      <td>1</td>\n",
       "      <td>1.000000</td>\n",
       "    </tr>\n",
       "    <tr>\n",
       "      <th>(9, 16)</th>\n",
       "      <td>1</td>\n",
       "      <td>1</td>\n",
       "      <td>1.000000</td>\n",
       "    </tr>\n",
       "    <tr>\n",
       "      <th>(10, 11)</th>\n",
       "      <td>1</td>\n",
       "      <td>2</td>\n",
       "      <td>0.500000</td>\n",
       "    </tr>\n",
       "    <tr>\n",
       "      <th>(10, 15)</th>\n",
       "      <td>2</td>\n",
       "      <td>2</td>\n",
       "      <td>1.000000</td>\n",
       "    </tr>\n",
       "    <tr>\n",
       "      <th>(11, 14)</th>\n",
       "      <td>3</td>\n",
       "      <td>3</td>\n",
       "      <td>1.000000</td>\n",
       "    </tr>\n",
       "    <tr>\n",
       "      <th>(12, 13)</th>\n",
       "      <td>1</td>\n",
       "      <td>3</td>\n",
       "      <td>0.333333</td>\n",
       "    </tr>\n",
       "  </tbody>\n",
       "</table>\n",
       "</div>"
      ],
      "text/plain": [
       "          sum  count       avg\n",
       "SeedPair                      \n",
       "(1, 2)      7     14  0.500000\n",
       "(1, 3)      8     10  0.800000\n",
       "(1, 4)     15     19  0.789474\n",
       "(1, 5)      9     10  0.900000\n",
       "(1, 6)      2      2  1.000000\n",
       "(1, 7)      2      3  0.666667\n",
       "(1, 8)     16     20  0.800000\n",
       "(1, 9)     14     16  0.875000\n",
       "(1, 10)     1      2  0.500000\n",
       "(1, 11)     3      4  0.750000\n",
       "(1, 12)     2      2  1.000000\n",
       "(1, 13)     1      1  1.000000\n",
       "(1, 16)    35     36  0.972222\n",
       "(2, 3)      6     11  0.545455\n",
       "(2, 5)      0      1  0.000000\n",
       "(2, 6)      4      4  1.000000\n",
       "(2, 7)     10     19  0.526316\n",
       "(2, 8)      0      2  0.000000\n",
       "(2, 9)      0      1  0.000000\n",
       "(2, 10)    11     12  0.916667\n",
       "(2, 11)     5      7  0.714286\n",
       "(2, 12)     1      1  1.000000\n",
       "(2, 15)    31     36  0.861111\n",
       "(3, 4)      0      2  0.000000\n",
       "(3, 6)     12     15  0.800000\n",
       "(3, 7)      3      7  0.428571\n",
       "(3, 9)      1      1  1.000000\n",
       "(3, 10)     1      1  1.000000\n",
       "(3, 11)     9     16  0.562500\n",
       "(3, 14)    30     36  0.833333\n",
       "(3, 15)     2      2  1.000000\n",
       "(4, 5)     11     16  0.687500\n",
       "(4, 7)      1      4  0.250000\n",
       "(4, 8)      2      3  0.666667\n",
       "(4, 9)      0      1  0.000000\n",
       "(4, 12)    10     12  0.833333\n",
       "(4, 13)    28     36  0.777778\n",
       "(5, 9)      0      1  0.000000\n",
       "(5, 12)    21     36  0.583333\n",
       "(5, 13)     5      5  1.000000\n",
       "(6, 7)      2      2  1.000000\n",
       "(6, 11)    18     36  0.500000\n",
       "(6, 14)     3      3  1.000000\n",
       "(7, 8)      1      1  1.000000\n",
       "(7, 10)    21     35  0.600000\n",
       "(7, 11)     0      1  0.000000\n",
       "(7, 15)     1      3  0.333333\n",
       "(8, 9)     20     36  0.555556\n",
       "(8, 12)     0      1  0.000000\n",
       "(9, 11)     0      1  0.000000\n",
       "(9, 13)     1      1  1.000000\n",
       "(9, 16)     1      1  1.000000\n",
       "(10, 11)    1      2  0.500000\n",
       "(10, 15)    2      2  1.000000\n",
       "(11, 14)    3      3  1.000000\n",
       "(12, 13)    1      3  0.333333"
      ]
     },
     "execution_count": 169,
     "metadata": {},
     "output_type": "execute_result"
    }
   ],
   "source": [
    "# calculate win percentage for top seed in all seed pairs\n",
    "top_seed_win_df = tourn_df[[\"SeedPair\", \"TopSeedWon\"]].groupby(\"SeedPair\").agg([\"sum\", \"count\"])\n",
    "top_seed_win_df.columns = top_seed_win_df.columns.get_level_values(1)\n",
    "top_seed_win_df[\"avg\"] = top_seed_win_df[\"sum\"] / top_seed_win_df[\"count\"]\n",
    "top_seed_win_df"
   ]
  },
  {
   "cell_type": "code",
   "execution_count": 170,
   "metadata": {},
   "outputs": [
    {
     "data": {
      "application/vnd.plotly.v1+json": {
       "config": {
        "plotlyServerURL": "https://plot.ly"
       },
       "data": [
        {
         "coloraxis": "coloraxis",
         "hovertemplate": "x: %{x}<br>y: %{y}<br>color: %{z}<extra></extra>",
         "name": "0",
         "type": "heatmap",
         "x": [
          1,
          2,
          3,
          4,
          5,
          6,
          7,
          8,
          9,
          10,
          11,
          12,
          13,
          14,
          15,
          16
         ],
         "xaxis": "x",
         "y": [
          1,
          2,
          3,
          4,
          5,
          6,
          7,
          8,
          9,
          10,
          11,
          12,
          13,
          14,
          15,
          16
         ],
         "yaxis": "y",
         "z": [
          [
           0.5,
           0.5,
           0.8,
           0.7894736842105263,
           0.9,
           1,
           0.6666666666666666,
           0.8,
           0.875,
           0.5,
           0.75,
           1,
           1,
           1,
           1,
           0.9722222222222222
          ],
          [
           0,
           0.5,
           0.5454545454545454,
           1,
           0,
           1,
           0.5263157894736842,
           0,
           0,
           0.9166666666666666,
           0.7142857142857143,
           1,
           1,
           1,
           0.8611111111111112,
           1
          ],
          [
           0,
           0,
           0.5,
           0,
           1,
           0.8,
           0.42857142857142855,
           1,
           1,
           1,
           0.5625,
           1,
           1,
           0.8333333333333334,
           1,
           1
          ],
          [
           0,
           0,
           0,
           0.5,
           0.6875,
           1,
           0.25,
           0.6666666666666666,
           0,
           1,
           1,
           0.8333333333333334,
           0.7777777777777778,
           1,
           1,
           1
          ],
          [
           0,
           0,
           0,
           0,
           0.5,
           1,
           1,
           1,
           0,
           1,
           1,
           0.5833333333333334,
           1,
           1,
           1,
           1
          ],
          [
           0,
           0,
           0,
           0,
           0,
           0.5,
           1,
           1,
           1,
           1,
           0.5,
           1,
           1,
           1,
           1,
           1
          ],
          [
           0,
           0,
           0,
           0,
           0,
           0,
           0.5,
           1,
           1,
           0.6,
           0,
           1,
           1,
           1,
           0.3333333333333333,
           1
          ],
          [
           0,
           0,
           0,
           0,
           0,
           0,
           0,
           0.5,
           0.5555555555555556,
           1,
           1,
           0,
           1,
           1,
           1,
           1
          ],
          [
           0,
           0,
           0,
           0,
           0,
           0,
           0,
           0,
           0.5,
           1,
           0,
           1,
           1,
           1,
           1,
           1
          ],
          [
           0,
           0,
           0,
           0,
           0,
           0,
           0,
           0,
           0,
           0.5,
           0.5,
           1,
           1,
           1,
           1,
           1
          ],
          [
           0,
           0,
           0,
           0,
           0,
           0,
           0,
           0,
           0,
           0,
           0.5,
           1,
           1,
           1,
           1,
           1
          ],
          [
           0,
           0,
           0,
           0,
           0,
           0,
           0,
           0,
           0,
           0,
           0,
           0.5,
           0.3333333333333333,
           1,
           1,
           1
          ],
          [
           0,
           0,
           0,
           0,
           0,
           0,
           0,
           0,
           0,
           0,
           0,
           0,
           0.5,
           1,
           1,
           1
          ],
          [
           0,
           0,
           0,
           0,
           0,
           0,
           0,
           0,
           0,
           0,
           0,
           0,
           0,
           0.5,
           1,
           1
          ],
          [
           0,
           0,
           0,
           0,
           0,
           0,
           0,
           0,
           0,
           0,
           0,
           0,
           0,
           0,
           0.5,
           1
          ],
          [
           0,
           0,
           0,
           0,
           0,
           0,
           0,
           0,
           0,
           0,
           0,
           0,
           0,
           0,
           0,
           0.5
          ]
         ]
        }
       ],
       "layout": {
        "coloraxis": {
         "colorscale": [
          [
           0,
           "#0d0887"
          ],
          [
           0.1111111111111111,
           "#46039f"
          ],
          [
           0.2222222222222222,
           "#7201a8"
          ],
          [
           0.3333333333333333,
           "#9c179e"
          ],
          [
           0.4444444444444444,
           "#bd3786"
          ],
          [
           0.5555555555555556,
           "#d8576b"
          ],
          [
           0.6666666666666666,
           "#ed7953"
          ],
          [
           0.7777777777777778,
           "#fb9f3a"
          ],
          [
           0.8888888888888888,
           "#fdca26"
          ],
          [
           1,
           "#f0f921"
          ]
         ]
        },
        "margin": {
         "t": 60
        },
        "template": {
         "data": {
          "bar": [
           {
            "error_x": {
             "color": "#2a3f5f"
            },
            "error_y": {
             "color": "#2a3f5f"
            },
            "marker": {
             "line": {
              "color": "#E5ECF6",
              "width": 0.5
             }
            },
            "type": "bar"
           }
          ],
          "barpolar": [
           {
            "marker": {
             "line": {
              "color": "#E5ECF6",
              "width": 0.5
             }
            },
            "type": "barpolar"
           }
          ],
          "carpet": [
           {
            "aaxis": {
             "endlinecolor": "#2a3f5f",
             "gridcolor": "white",
             "linecolor": "white",
             "minorgridcolor": "white",
             "startlinecolor": "#2a3f5f"
            },
            "baxis": {
             "endlinecolor": "#2a3f5f",
             "gridcolor": "white",
             "linecolor": "white",
             "minorgridcolor": "white",
             "startlinecolor": "#2a3f5f"
            },
            "type": "carpet"
           }
          ],
          "choropleth": [
           {
            "colorbar": {
             "outlinewidth": 0,
             "ticks": ""
            },
            "type": "choropleth"
           }
          ],
          "contour": [
           {
            "colorbar": {
             "outlinewidth": 0,
             "ticks": ""
            },
            "colorscale": [
             [
              0,
              "#0d0887"
             ],
             [
              0.1111111111111111,
              "#46039f"
             ],
             [
              0.2222222222222222,
              "#7201a8"
             ],
             [
              0.3333333333333333,
              "#9c179e"
             ],
             [
              0.4444444444444444,
              "#bd3786"
             ],
             [
              0.5555555555555556,
              "#d8576b"
             ],
             [
              0.6666666666666666,
              "#ed7953"
             ],
             [
              0.7777777777777778,
              "#fb9f3a"
             ],
             [
              0.8888888888888888,
              "#fdca26"
             ],
             [
              1,
              "#f0f921"
             ]
            ],
            "type": "contour"
           }
          ],
          "contourcarpet": [
           {
            "colorbar": {
             "outlinewidth": 0,
             "ticks": ""
            },
            "type": "contourcarpet"
           }
          ],
          "heatmap": [
           {
            "colorbar": {
             "outlinewidth": 0,
             "ticks": ""
            },
            "colorscale": [
             [
              0,
              "#0d0887"
             ],
             [
              0.1111111111111111,
              "#46039f"
             ],
             [
              0.2222222222222222,
              "#7201a8"
             ],
             [
              0.3333333333333333,
              "#9c179e"
             ],
             [
              0.4444444444444444,
              "#bd3786"
             ],
             [
              0.5555555555555556,
              "#d8576b"
             ],
             [
              0.6666666666666666,
              "#ed7953"
             ],
             [
              0.7777777777777778,
              "#fb9f3a"
             ],
             [
              0.8888888888888888,
              "#fdca26"
             ],
             [
              1,
              "#f0f921"
             ]
            ],
            "type": "heatmap"
           }
          ],
          "heatmapgl": [
           {
            "colorbar": {
             "outlinewidth": 0,
             "ticks": ""
            },
            "colorscale": [
             [
              0,
              "#0d0887"
             ],
             [
              0.1111111111111111,
              "#46039f"
             ],
             [
              0.2222222222222222,
              "#7201a8"
             ],
             [
              0.3333333333333333,
              "#9c179e"
             ],
             [
              0.4444444444444444,
              "#bd3786"
             ],
             [
              0.5555555555555556,
              "#d8576b"
             ],
             [
              0.6666666666666666,
              "#ed7953"
             ],
             [
              0.7777777777777778,
              "#fb9f3a"
             ],
             [
              0.8888888888888888,
              "#fdca26"
             ],
             [
              1,
              "#f0f921"
             ]
            ],
            "type": "heatmapgl"
           }
          ],
          "histogram": [
           {
            "marker": {
             "colorbar": {
              "outlinewidth": 0,
              "ticks": ""
             }
            },
            "type": "histogram"
           }
          ],
          "histogram2d": [
           {
            "colorbar": {
             "outlinewidth": 0,
             "ticks": ""
            },
            "colorscale": [
             [
              0,
              "#0d0887"
             ],
             [
              0.1111111111111111,
              "#46039f"
             ],
             [
              0.2222222222222222,
              "#7201a8"
             ],
             [
              0.3333333333333333,
              "#9c179e"
             ],
             [
              0.4444444444444444,
              "#bd3786"
             ],
             [
              0.5555555555555556,
              "#d8576b"
             ],
             [
              0.6666666666666666,
              "#ed7953"
             ],
             [
              0.7777777777777778,
              "#fb9f3a"
             ],
             [
              0.8888888888888888,
              "#fdca26"
             ],
             [
              1,
              "#f0f921"
             ]
            ],
            "type": "histogram2d"
           }
          ],
          "histogram2dcontour": [
           {
            "colorbar": {
             "outlinewidth": 0,
             "ticks": ""
            },
            "colorscale": [
             [
              0,
              "#0d0887"
             ],
             [
              0.1111111111111111,
              "#46039f"
             ],
             [
              0.2222222222222222,
              "#7201a8"
             ],
             [
              0.3333333333333333,
              "#9c179e"
             ],
             [
              0.4444444444444444,
              "#bd3786"
             ],
             [
              0.5555555555555556,
              "#d8576b"
             ],
             [
              0.6666666666666666,
              "#ed7953"
             ],
             [
              0.7777777777777778,
              "#fb9f3a"
             ],
             [
              0.8888888888888888,
              "#fdca26"
             ],
             [
              1,
              "#f0f921"
             ]
            ],
            "type": "histogram2dcontour"
           }
          ],
          "mesh3d": [
           {
            "colorbar": {
             "outlinewidth": 0,
             "ticks": ""
            },
            "type": "mesh3d"
           }
          ],
          "parcoords": [
           {
            "line": {
             "colorbar": {
              "outlinewidth": 0,
              "ticks": ""
             }
            },
            "type": "parcoords"
           }
          ],
          "pie": [
           {
            "automargin": true,
            "type": "pie"
           }
          ],
          "scatter": [
           {
            "marker": {
             "colorbar": {
              "outlinewidth": 0,
              "ticks": ""
             }
            },
            "type": "scatter"
           }
          ],
          "scatter3d": [
           {
            "line": {
             "colorbar": {
              "outlinewidth": 0,
              "ticks": ""
             }
            },
            "marker": {
             "colorbar": {
              "outlinewidth": 0,
              "ticks": ""
             }
            },
            "type": "scatter3d"
           }
          ],
          "scattercarpet": [
           {
            "marker": {
             "colorbar": {
              "outlinewidth": 0,
              "ticks": ""
             }
            },
            "type": "scattercarpet"
           }
          ],
          "scattergeo": [
           {
            "marker": {
             "colorbar": {
              "outlinewidth": 0,
              "ticks": ""
             }
            },
            "type": "scattergeo"
           }
          ],
          "scattergl": [
           {
            "marker": {
             "colorbar": {
              "outlinewidth": 0,
              "ticks": ""
             }
            },
            "type": "scattergl"
           }
          ],
          "scattermapbox": [
           {
            "marker": {
             "colorbar": {
              "outlinewidth": 0,
              "ticks": ""
             }
            },
            "type": "scattermapbox"
           }
          ],
          "scatterpolar": [
           {
            "marker": {
             "colorbar": {
              "outlinewidth": 0,
              "ticks": ""
             }
            },
            "type": "scatterpolar"
           }
          ],
          "scatterpolargl": [
           {
            "marker": {
             "colorbar": {
              "outlinewidth": 0,
              "ticks": ""
             }
            },
            "type": "scatterpolargl"
           }
          ],
          "scatterternary": [
           {
            "marker": {
             "colorbar": {
              "outlinewidth": 0,
              "ticks": ""
             }
            },
            "type": "scatterternary"
           }
          ],
          "surface": [
           {
            "colorbar": {
             "outlinewidth": 0,
             "ticks": ""
            },
            "colorscale": [
             [
              0,
              "#0d0887"
             ],
             [
              0.1111111111111111,
              "#46039f"
             ],
             [
              0.2222222222222222,
              "#7201a8"
             ],
             [
              0.3333333333333333,
              "#9c179e"
             ],
             [
              0.4444444444444444,
              "#bd3786"
             ],
             [
              0.5555555555555556,
              "#d8576b"
             ],
             [
              0.6666666666666666,
              "#ed7953"
             ],
             [
              0.7777777777777778,
              "#fb9f3a"
             ],
             [
              0.8888888888888888,
              "#fdca26"
             ],
             [
              1,
              "#f0f921"
             ]
            ],
            "type": "surface"
           }
          ],
          "table": [
           {
            "cells": {
             "fill": {
              "color": "#EBF0F8"
             },
             "line": {
              "color": "white"
             }
            },
            "header": {
             "fill": {
              "color": "#C8D4E3"
             },
             "line": {
              "color": "white"
             }
            },
            "type": "table"
           }
          ]
         },
         "layout": {
          "annotationdefaults": {
           "arrowcolor": "#2a3f5f",
           "arrowhead": 0,
           "arrowwidth": 1
          },
          "autotypenumbers": "strict",
          "coloraxis": {
           "colorbar": {
            "outlinewidth": 0,
            "ticks": ""
           }
          },
          "colorscale": {
           "diverging": [
            [
             0,
             "#8e0152"
            ],
            [
             0.1,
             "#c51b7d"
            ],
            [
             0.2,
             "#de77ae"
            ],
            [
             0.3,
             "#f1b6da"
            ],
            [
             0.4,
             "#fde0ef"
            ],
            [
             0.5,
             "#f7f7f7"
            ],
            [
             0.6,
             "#e6f5d0"
            ],
            [
             0.7,
             "#b8e186"
            ],
            [
             0.8,
             "#7fbc41"
            ],
            [
             0.9,
             "#4d9221"
            ],
            [
             1,
             "#276419"
            ]
           ],
           "sequential": [
            [
             0,
             "#0d0887"
            ],
            [
             0.1111111111111111,
             "#46039f"
            ],
            [
             0.2222222222222222,
             "#7201a8"
            ],
            [
             0.3333333333333333,
             "#9c179e"
            ],
            [
             0.4444444444444444,
             "#bd3786"
            ],
            [
             0.5555555555555556,
             "#d8576b"
            ],
            [
             0.6666666666666666,
             "#ed7953"
            ],
            [
             0.7777777777777778,
             "#fb9f3a"
            ],
            [
             0.8888888888888888,
             "#fdca26"
            ],
            [
             1,
             "#f0f921"
            ]
           ],
           "sequentialminus": [
            [
             0,
             "#0d0887"
            ],
            [
             0.1111111111111111,
             "#46039f"
            ],
            [
             0.2222222222222222,
             "#7201a8"
            ],
            [
             0.3333333333333333,
             "#9c179e"
            ],
            [
             0.4444444444444444,
             "#bd3786"
            ],
            [
             0.5555555555555556,
             "#d8576b"
            ],
            [
             0.6666666666666666,
             "#ed7953"
            ],
            [
             0.7777777777777778,
             "#fb9f3a"
            ],
            [
             0.8888888888888888,
             "#fdca26"
            ],
            [
             1,
             "#f0f921"
            ]
           ]
          },
          "colorway": [
           "#636efa",
           "#EF553B",
           "#00cc96",
           "#ab63fa",
           "#FFA15A",
           "#19d3f3",
           "#FF6692",
           "#B6E880",
           "#FF97FF",
           "#FECB52"
          ],
          "font": {
           "color": "#2a3f5f"
          },
          "geo": {
           "bgcolor": "white",
           "lakecolor": "white",
           "landcolor": "#E5ECF6",
           "showlakes": true,
           "showland": true,
           "subunitcolor": "white"
          },
          "hoverlabel": {
           "align": "left"
          },
          "hovermode": "closest",
          "mapbox": {
           "style": "light"
          },
          "paper_bgcolor": "white",
          "plot_bgcolor": "#E5ECF6",
          "polar": {
           "angularaxis": {
            "gridcolor": "white",
            "linecolor": "white",
            "ticks": ""
           },
           "bgcolor": "#E5ECF6",
           "radialaxis": {
            "gridcolor": "white",
            "linecolor": "white",
            "ticks": ""
           }
          },
          "scene": {
           "xaxis": {
            "backgroundcolor": "#E5ECF6",
            "gridcolor": "white",
            "gridwidth": 2,
            "linecolor": "white",
            "showbackground": true,
            "ticks": "",
            "zerolinecolor": "white"
           },
           "yaxis": {
            "backgroundcolor": "#E5ECF6",
            "gridcolor": "white",
            "gridwidth": 2,
            "linecolor": "white",
            "showbackground": true,
            "ticks": "",
            "zerolinecolor": "white"
           },
           "zaxis": {
            "backgroundcolor": "#E5ECF6",
            "gridcolor": "white",
            "gridwidth": 2,
            "linecolor": "white",
            "showbackground": true,
            "ticks": "",
            "zerolinecolor": "white"
           }
          },
          "shapedefaults": {
           "line": {
            "color": "#2a3f5f"
           }
          },
          "ternary": {
           "aaxis": {
            "gridcolor": "white",
            "linecolor": "white",
            "ticks": ""
           },
           "baxis": {
            "gridcolor": "white",
            "linecolor": "white",
            "ticks": ""
           },
           "bgcolor": "#E5ECF6",
           "caxis": {
            "gridcolor": "white",
            "linecolor": "white",
            "ticks": ""
           }
          },
          "title": {
           "x": 0.05
          },
          "xaxis": {
           "automargin": true,
           "gridcolor": "white",
           "linecolor": "white",
           "ticks": "",
           "title": {
            "standoff": 15
           },
           "zerolinecolor": "white",
           "zerolinewidth": 2
          },
          "yaxis": {
           "automargin": true,
           "gridcolor": "white",
           "linecolor": "white",
           "ticks": "",
           "title": {
            "standoff": 15
           },
           "zerolinecolor": "white",
           "zerolinewidth": 2
          }
         }
        },
        "xaxis": {
         "anchor": "y",
         "constrain": "domain",
         "domain": [
          0,
          1
         ],
         "scaleanchor": "y"
        },
        "yaxis": {
         "anchor": "x",
         "autorange": "reversed",
         "constrain": "domain",
         "domain": [
          0,
          1
         ]
        }
       }
      }
     },
     "metadata": {},
     "output_type": "display_data"
    }
   ],
   "source": [
    "# build an adjacency matrix\n",
    "adj_arr = 0.5*np.diag(np.diag(np.ones((16,16))))\n",
    "for r in range(16):\n",
    "    for c in range(r + 1, 16):\n",
    "        try:\n",
    "            adj_arr[r, c] = top_seed_win_df.loc[top_seed_win_df.index == (r+1,c+1), \"avg\"].values[0]\n",
    "        except:\n",
    "            # this seed pair was never observed, so assume top seed always wins\n",
    "            adj_arr[r, c] = 1\n",
    "\n",
    "fig = px.imshow(adj_arr, x=list(range(1,17)), y=list(range(1,17)))\n",
    "fig.show()"
   ]
  },
  {
   "cell_type": "markdown",
   "metadata": {},
   "source": []
  },
  {
   "cell_type": "code",
   "execution_count": 171,
   "metadata": {},
   "outputs": [
    {
     "name": "stdout",
     "output_type": "stream",
     "text": [
      "Region N results:\n",
      "First round\n",
      "-------------------\n",
      "Seed #1 beat #16\n",
      "Seed #8 lost to #9\n",
      "Seed #5 lost to #12\n",
      "Seed #4 beat #13\n",
      "Seed #6 beat #11\n",
      "Seed #3 beat #14\n",
      "Seed #7 lost to #10\n",
      "Seed #2 beat #15\n",
      "\n",
      "Second round\n",
      "-------------------\n",
      "Seed #1 beat #9\n",
      "Seed #4 lost to #12\n",
      "Seed #3 lost to #6\n",
      "Seed #2 beat #10\n",
      "\n",
      "Sweet 16 round\n",
      "-------------------\n",
      "Seed #1 beat #12\n",
      "Seed #2 beat #6\n",
      "\n",
      "Elite 8 round\n",
      "-------------------\n",
      "Seed #1 beat #2\n",
      "\n",
      "Region E results:\n",
      "First round\n",
      "-------------------\n",
      "Seed #1 beat #16\n",
      "Seed #8 beat #9\n",
      "Seed #5 lost to #12\n",
      "Seed #4 lost to #13\n",
      "Seed #6 lost to #11\n",
      "Seed #3 lost to #14\n",
      "Seed #7 beat #10\n",
      "Seed #2 beat #15\n",
      "\n",
      "Second round\n",
      "-------------------\n",
      "Seed #1 beat #8\n",
      "Seed #12 beat #13\n",
      "Seed #11 beat #14\n",
      "Seed #2 beat #7\n",
      "\n",
      "Sweet 16 round\n",
      "-------------------\n",
      "Seed #1 beat #12\n",
      "Seed #2 beat #11\n",
      "\n",
      "Elite 8 round\n",
      "-------------------\n",
      "Seed #1 lost to #2\n",
      "\n",
      "Region S results:\n",
      "First round\n",
      "-------------------\n",
      "Seed #1 beat #16\n",
      "Seed #8 lost to #9\n",
      "Seed #5 beat #12\n",
      "Seed #4 beat #13\n",
      "Seed #6 lost to #11\n",
      "Seed #3 beat #14\n",
      "Seed #7 beat #10\n",
      "Seed #2 beat #15\n",
      "\n",
      "Second round\n",
      "-------------------\n",
      "Seed #1 beat #9\n",
      "Seed #4 lost to #5\n",
      "Seed #3 lost to #11\n",
      "Seed #2 beat #7\n",
      "\n",
      "Sweet 16 round\n",
      "-------------------\n",
      "Seed #1 beat #5\n",
      "Seed #2 lost to #11\n",
      "\n",
      "Elite 8 round\n",
      "-------------------\n",
      "Seed #1 beat #11\n",
      "\n",
      "Region W results:\n",
      "First round\n",
      "-------------------\n",
      "Seed #1 beat #16\n",
      "Seed #8 beat #9\n",
      "Seed #5 lost to #12\n",
      "Seed #4 beat #13\n",
      "Seed #6 beat #11\n",
      "Seed #3 lost to #14\n",
      "Seed #7 lost to #10\n",
      "Seed #2 beat #15\n",
      "\n",
      "Second round\n",
      "-------------------\n",
      "Seed #1 beat #8\n",
      "Seed #4 beat #12\n",
      "Seed #6 beat #14\n",
      "Seed #2 beat #10\n",
      "\n",
      "Sweet 16 round\n",
      "-------------------\n",
      "Seed #1 beat #4\n",
      "Seed #2 beat #6\n",
      "\n",
      "Elite 8 round\n",
      "-------------------\n",
      "Seed #1 beat #2\n",
      "\n",
      "Final four round\n",
      "-------------------\n",
      "Seed #1 from the W beat #2 from the E\n",
      "Seed #1 from the N lost to #1 from the S\n",
      "\n",
      "Championship round\n",
      "-------------------\n",
      "Seed #1 from the W beat #1 from the S\n"
     ]
    }
   ],
   "source": [
    "# make a bracket\n",
    "#np.random.seed(123)\n",
    "region_ls = [\"N\", \"E\", \"S\", \"W\"]\n",
    "final_four_dict = {}\n",
    "for r in region_ls:\n",
    "    print(f\"Region {r} results:\")\n",
    "    matchups_ls = [(ts,bs) for ts, bs in zip([1,8,5,4,6,3,7,2], [16,9,12,13,11,14,10,15])]\n",
    "    for round in [\"First\", \"Second\", \"Sweet 16\", \"Elite 8\"]:\n",
    "        print(f\"{round} round\")\n",
    "        print(\"-------------------\")\n",
    "        victors_ls = []\n",
    "        for matchup in matchups_ls:\n",
    "            ts = matchup[0]\n",
    "            bs = matchup[1]\n",
    "            result = np.random.rand()\n",
    "            if result < adj_arr[ts-1,bs-1]:\n",
    "                print(f\"Seed #{ts} beat #{bs}\")\n",
    "                victors_ls.append(ts)\n",
    "            else:\n",
    "                print(f\"Seed #{ts} lost to #{bs}\")\n",
    "                victors_ls.append(bs)\n",
    "        \n",
    "        if len(victors_ls) > 1:\n",
    "            matchups_ls = []\n",
    "            for i in range(0, len(victors_ls), 2):\n",
    "                if victors_ls[i] < victors_ls[i+1]:\n",
    "                    matchups_ls.append((victors_ls[i], victors_ls[i+1]))\n",
    "                else:\n",
    "                    matchups_ls.append((victors_ls[i+1], victors_ls[i]))\n",
    "        \n",
    "        print(\"\")\n",
    "\n",
    "    final_four_dict[r] = victors_ls[0]\n",
    "        \n",
    "print(\"Final four round\")\n",
    "print(\"-------------------\")\n",
    "championship_dict = {}\n",
    "for r1, r2 in zip([\"E\", \"N\"], [\"W\", \"S\"]):\n",
    "    result = np.random.rand()\n",
    "    if final_four_dict[r1] == final_four_dict[r2]:\n",
    "        ts = final_four_dict[r1]\n",
    "        tr = r1\n",
    "        bs = final_four_dict[r2]\n",
    "        br = r2\n",
    "\n",
    "    else:\n",
    "\n",
    "        if final_four_dict[r1] < final_four_dict[r2]:\n",
    "            ts = final_four_dict[r1]\n",
    "            tr = r1\n",
    "            bs = final_four_dict[r2]\n",
    "            br = r2\n",
    "        else:\n",
    "            ts = final_four_dict[r2]\n",
    "            tr = r2\n",
    "            bs = final_four_dict[r1]\n",
    "            br = r1\n",
    "\n",
    "    if result < adj_arr[ts-1,bs-1]:\n",
    "        print(f\"Seed #{ts} from the {tr} beat #{bs} from the {br}\")\n",
    "        championship_dict[tr] = ts\n",
    "    else:\n",
    "        print(f\"Seed #{ts} from the {tr} lost to #{bs} from the {br}\")\n",
    "        championship_dict[br] = bs\n",
    "\n",
    "print()\n",
    "print(\"Championship round\")\n",
    "print(\"-------------------\")\n",
    "result = np.random.rand()\n",
    "r1 = list(championship_dict.keys())[0]\n",
    "r2 = list(championship_dict.keys())[1]\n",
    "if championship_dict[r1] == championship_dict[r2]:\n",
    "    ts = championship_dict[r1]\n",
    "    tr = r1\n",
    "    bs = championship_dict[r2]\n",
    "    br = r2\n",
    "\n",
    "else:\n",
    "\n",
    "    if championship_dict[r1] < championship_dict[r2]:\n",
    "        ts = championship_dict[r1]\n",
    "        tr = r1\n",
    "        bs = championship_dict[r2]\n",
    "        br = r2\n",
    "    else:\n",
    "        ts = championship_dict[r2]\n",
    "        tr = r2\n",
    "        bs = championship_dict[r1]\n",
    "        br = r1\n",
    "\n",
    "if result < adj_arr[ts-1,bs-1]:\n",
    "    print(f\"Seed #{ts} from the {tr} beat #{bs} from the {br}\")\n",
    "else:\n",
    "    print(f\"Seed #{ts} from the {tr} lost to #{bs} from the {br}\")"
   ]
  }
 ],
 "metadata": {
  "interpreter": {
   "hash": "747fd4aa3c905e8f20bfeaea8920fd32daee447b8b40c5c2867ef44f2351c506"
  },
  "kernelspec": {
   "display_name": "Python 3.8.10 64-bit ('producer': conda)",
   "language": "python",
   "name": "python3"
  },
  "language_info": {
   "codemirror_mode": {
    "name": "ipython",
    "version": 3
   },
   "file_extension": ".py",
   "mimetype": "text/x-python",
   "name": "python",
   "nbconvert_exporter": "python",
   "pygments_lexer": "ipython3",
   "version": "3.8.10"
  },
  "orig_nbformat": 4
 },
 "nbformat": 4,
 "nbformat_minor": 2
}
